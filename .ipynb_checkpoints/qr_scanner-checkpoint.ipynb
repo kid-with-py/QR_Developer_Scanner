{
 "cells": [
  {
   "cell_type": "code",
   "execution_count": null,
   "id": "524e4301",
   "metadata": {},
   "outputs": [],
   "source": [
    "import cv2\n",
    "from pyzbar.pyzbar import decode"
   ]
  },
  {
   "cell_type": "code",
   "execution_count": null,
   "id": "83fc7cd2",
   "metadata": {},
   "outputs": [],
   "source": [
    "# Open the webcam (you can also provide a video file path)\n",
    "cap = cv2.VideoCapture()"
   ]
  },
  {
   "cell_type": "code",
   "execution_count": null,
   "id": "6337367e",
   "metadata": {},
   "outputs": [],
   "source": [
    "while True:\n",
    "    ret, frame = cap.read()\n",
    "\n",
    "    # Decode QR codes from the frame\n",
    "    decoded_objects = decode(frame)\n",
    "\n",
    "    for obj in decoded_objects:\n",
    "        # Extract QR code data\n",
    "        qr_data = obj.data.decode('utf-8')\n",
    "        \n",
    "        # Get QR code location points\n",
    "        points = obj.polygon\n",
    "        \n",
    "        # Draw a rectangle around the QR code\n",
    "        if len(points) > 4:\n",
    "            hull = cv2.convexHull(np.array([point for point in points]))\n",
    "            cv2.polylines(frame, [hull], True, (0, 255, 0), 2)\n",
    "        \n",
    "        # Display QR code data on the frame\n",
    "        cv2.putText(frame, qr_data, (obj.rect.left, obj.rect.top - 10),\n",
    "                    cv2.FONT_HERSHEY_PLAIN, 1, (0, 0, 255), 2)\n",
    "        \n",
    "    # Display the frame\n",
    "    cv2.imshow(\"QR Code Scanner\", frame)\n",
    "\n",
    "    if cv2.waitKey(1) & 0xFF == ord('q'):\n",
    "        break"
   ]
  },
  {
   "cell_type": "code",
   "execution_count": null,
   "id": "b5c0ad81",
   "metadata": {},
   "outputs": [],
   "source": [
    "# Release the capture\n",
    "cap.release()\n",
    "cv2.destroyAllWindows()"
   ]
  }
 ],
 "metadata": {
  "kernelspec": {
   "display_name": "local_env",
   "language": "python",
   "name": "local_env"
  },
  "language_info": {
   "codemirror_mode": {
    "name": "ipython",
    "version": 3
   },
   "file_extension": ".py",
   "mimetype": "text/x-python",
   "name": "python",
   "nbconvert_exporter": "python",
   "pygments_lexer": "ipython3",
   "version": "3.11.0"
  }
 },
 "nbformat": 4,
 "nbformat_minor": 5
}
